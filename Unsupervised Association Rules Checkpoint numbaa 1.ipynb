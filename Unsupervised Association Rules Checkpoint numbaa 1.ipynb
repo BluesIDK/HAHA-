{
 "cells": [
  {
   "cell_type": "markdown",
   "id": "d6837b1f",
   "metadata": {},
   "source": [
    "## What’s Inside the Dataset:\n",
    "\n",
    "Each row is a customer’s purchase (like a shopping basket).\n",
    "\n",
    "Each column holds one item from that purchase.\n",
    "\n",
    "We have 7501 transactions and up to 20 items per transaction.\n",
    "\n",
    "Some transactions are short (like one item), some are massive (like a feast)."
   ]
  },
  {
   "cell_type": "code",
   "execution_count": 2,
   "id": "9ecf88c8",
   "metadata": {},
   "outputs": [
    {
     "name": "stdout",
     "output_type": "stream",
     "text": [
      "Requirement already satisfied: mlxtend in d:\\anaconda\\lib\\site-packages (0.23.4)\n",
      "Requirement already satisfied: scipy>=1.2.1 in d:\\anaconda\\lib\\site-packages (from mlxtend) (1.13.1)\n",
      "Requirement already satisfied: numpy>=1.16.2 in d:\\anaconda\\lib\\site-packages (from mlxtend) (1.26.4)\n",
      "Requirement already satisfied: pandas>=0.24.2 in d:\\anaconda\\lib\\site-packages (from mlxtend) (2.2.2)\n",
      "Requirement already satisfied: scikit-learn>=1.3.1 in d:\\anaconda\\lib\\site-packages (from mlxtend) (1.5.1)\n",
      "Requirement already satisfied: matplotlib>=3.0.0 in d:\\anaconda\\lib\\site-packages (from mlxtend) (3.9.2)\n",
      "Requirement already satisfied: joblib>=0.13.2 in d:\\anaconda\\lib\\site-packages (from mlxtend) (1.4.2)\n",
      "Requirement already satisfied: contourpy>=1.0.1 in d:\\anaconda\\lib\\site-packages (from matplotlib>=3.0.0->mlxtend) (1.2.0)\n",
      "Requirement already satisfied: cycler>=0.10 in d:\\anaconda\\lib\\site-packages (from matplotlib>=3.0.0->mlxtend) (0.11.0)\n",
      "Requirement already satisfied: fonttools>=4.22.0 in d:\\anaconda\\lib\\site-packages (from matplotlib>=3.0.0->mlxtend) (4.51.0)\n",
      "Requirement already satisfied: kiwisolver>=1.3.1 in d:\\anaconda\\lib\\site-packages (from matplotlib>=3.0.0->mlxtend) (1.4.4)\n",
      "Requirement already satisfied: packaging>=20.0 in d:\\anaconda\\lib\\site-packages (from matplotlib>=3.0.0->mlxtend) (24.1)\n",
      "Requirement already satisfied: pillow>=8 in d:\\anaconda\\lib\\site-packages (from matplotlib>=3.0.0->mlxtend) (10.4.0)\n",
      "Requirement already satisfied: pyparsing>=2.3.1 in d:\\anaconda\\lib\\site-packages (from matplotlib>=3.0.0->mlxtend) (3.1.2)\n",
      "Requirement already satisfied: python-dateutil>=2.7 in d:\\anaconda\\lib\\site-packages (from matplotlib>=3.0.0->mlxtend) (2.9.0.post0)\n",
      "Requirement already satisfied: pytz>=2020.1 in d:\\anaconda\\lib\\site-packages (from pandas>=0.24.2->mlxtend) (2024.1)\n",
      "Requirement already satisfied: tzdata>=2022.7 in d:\\anaconda\\lib\\site-packages (from pandas>=0.24.2->mlxtend) (2023.3)\n",
      "Requirement already satisfied: threadpoolctl>=3.1.0 in d:\\anaconda\\lib\\site-packages (from scikit-learn>=1.3.1->mlxtend) (3.5.0)\n",
      "Requirement already satisfied: six>=1.5 in d:\\anaconda\\lib\\site-packages (from python-dateutil>=2.7->matplotlib>=3.0.0->mlxtend) (1.16.0)\n",
      "       antecedents               consequents  support  confidence      lift\n",
      "0          (Heels)                   (Dress)      0.4    1.000000  2.500000\n",
      "1          (Dress)                   (Heels)      0.4    1.000000  2.500000\n",
      "2          (Scarf)                   (Dress)      0.4    0.500000  1.250000\n",
      "3          (Dress)                   (Scarf)      0.4    1.000000  1.250000\n",
      "4          (Scarf)                (Earrings)      0.4    0.500000  1.250000\n",
      "..             ...                       ...      ...         ...       ...\n",
      "61  (Skirt, Pants)           (Hat, Sneakers)      0.4    0.666667  1.666667\n",
      "62           (Hat)  (Sneakers, Skirt, Pants)      0.4    0.666667  1.666667\n",
      "63      (Sneakers)       (Hat, Skirt, Pants)      0.4    1.000000  2.500000\n",
      "64         (Skirt)    (Hat, Sneakers, Pants)      0.4    0.666667  1.666667\n",
      "65         (Pants)    (Hat, Sneakers, Skirt)      0.4    0.500000  1.250000\n",
      "\n",
      "[66 rows x 5 columns]\n"
     ]
    }
   ],
   "source": [
    "!pip install mlxtend\n",
    "\n",
    "from mlxtend.frequent_patterns import apriori, association_rules\n",
    "from mlxtend.preprocessing import TransactionEncoder\n",
    "import pandas as pd\n",
    "\n",
    "# Toy dataset\n",
    "toy_dataset = [['Skirt', 'Sneakers', 'Scarf', 'Pants', 'Hat'],\n",
    "               ['Sunglasses', 'Skirt', 'Sneakers', 'Pants', 'Hat'],\n",
    "               ['Dress', 'Sandals', 'Scarf', 'Pants', 'Heels'],\n",
    "               ['Dress', 'Necklace', 'Earrings', 'Scarf', 'Hat', 'Heels', 'Hat'],\n",
    "               ['Earrings', 'Skirt', 'Skirt', 'Scarf', 'Shirt', 'Pants']]\n",
    "\n",
    "# Step 1: Transform to one-hot encoded dataframe\n",
    "\n",
    "te = TransactionEncoder()\n",
    "te_ary = te.fit(toy_dataset).transform(toy_dataset)\n",
    "df_toy = pd.DataFrame(te_ary, columns=te.columns_)\n",
    "\n",
    "# Step 2: Run Apriori\n",
    "frequent_items = apriori(df_toy, min_support=0.3, use_colnames=True)\n",
    "\n",
    "# Step 3: Generate Association Rules\n",
    "rules = association_rules(frequent_items, metric=\"lift\", min_threshold=1.0)\n",
    "print(rules[['antecedents', 'consequents', 'support', 'confidence', 'lift']])\n"
   ]
  },
  {
   "cell_type": "markdown",
   "id": "f03f2e76",
   "metadata": {},
   "source": [
    "## THE ABOVE GIVES US:\n",
    "\n",
    "Which items are often bought together.\n",
    "\n",
    "Which items boost sales when paired (high lift).\n",
    "\n",
    "Ideas for bundles, shelf placement, or promotions."
   ]
  },
  {
   "cell_type": "code",
   "execution_count": 3,
   "id": "545c5675",
   "metadata": {},
   "outputs": [
    {
     "name": "stdout",
     "output_type": "stream",
     "text": [
      "            antecedents          consequents   support  confidence      lift\n",
      "64          (spaghetti)        (ground beef)  0.039195    0.225115  2.291162\n",
      "65        (ground beef)          (spaghetti)  0.039195    0.398915  2.291162\n",
      "87          (olive oil)          (spaghetti)  0.022930    0.348178  1.999758\n",
      "86          (spaghetti)          (olive oil)  0.022930    0.131700  1.999758\n",
      "79      (mineral water)               (soup)  0.023064    0.096756  1.914955\n",
      "78               (soup)      (mineral water)  0.023064    0.456464  1.914955\n",
      "53               (milk)  (frozen vegetables)  0.023597    0.182099  1.910382\n",
      "52  (frozen vegetables)               (milk)  0.023597    0.247552  1.910382\n",
      "0             (burgers)               (eggs)  0.028796    0.330275  1.837830\n",
      "1                (eggs)            (burgers)  0.028796    0.160237  1.837830\n"
     ]
    }
   ],
   "source": [
    "df = pd.read_csv(\"Market_Basket_Optimisation.csv\", header=None)\n",
    "\n",
    "# Convert to list of lists\n",
    "transactions = []\n",
    "for _, row in df.iterrows():\n",
    "    basket = row.dropna().tolist()\n",
    "    transactions.append(basket)\n",
    "\n",
    "# Encode transactions\n",
    "te = TransactionEncoder()\n",
    "te_ary = te.fit(transactions).transform(transactions)\n",
    "df_encoded = pd.DataFrame(te_ary, columns=te.columns_)\n",
    "\n",
    "# Run Apriori\n",
    "frequent_itemsets = apriori(df_encoded, min_support=0.02, use_colnames=True)\n",
    "\n",
    "# Generate association rules\n",
    "rules = association_rules(frequent_itemsets, metric=\"lift\", min_threshold=1.0)\n",
    "\n",
    "# Show most impactful rules\n",
    "rules_sorted = rules[['antecedents', 'consequents', 'support', 'confidence', 'lift']]\\\n",
    "                .sort_values(by='lift', ascending=False)\n",
    "\n",
    "print(rules_sorted.head(10))\n"
   ]
  },
  {
   "cell_type": "markdown",
   "id": "a0d936a1",
   "metadata": {},
   "source": [
    "## How to Interpret These Rules\n",
    "\n",
    "### Each rule tells a story:\n",
    "\n",
    "Antecedents\tConsequents\t    Lift\tMeaning\n",
    "{mineral water}\t{chocolate}\t1.4\t    People who buy water are 1.4x more likely to buy chocolate too\n",
    "{spaghetti}\t{ground beef}\t1.6\t    This combo sells better together\n",
    "\n",
    "\n",
    "## Business Plan for the Supermarket\n",
    "\n",
    "### Based on the top rules:\n",
    "\n",
    "Create product bundles: \"Water + Chocolate\", \"Spaghetti + Ground Beef\" offers.\n",
    "\n",
    "Use cross-promotions: Put chocolate near the water aisle. Ground beef next to pasta.\n",
    "\n",
    "Targeted Ads: Recommend paired products in receipts or apps (\"Others also bought...\").\n",
    "\n",
    "Shelf layout optimization: Boost impulse buys by placing items with high lift near checkout."
   ]
  }
 ],
 "metadata": {
  "kernelspec": {
   "display_name": "base",
   "language": "python",
   "name": "python3"
  },
  "language_info": {
   "codemirror_mode": {
    "name": "ipython",
    "version": 3
   },
   "file_extension": ".py",
   "mimetype": "text/x-python",
   "name": "python",
   "nbconvert_exporter": "python",
   "pygments_lexer": "ipython3",
   "version": "3.12.7"
  }
 },
 "nbformat": 4,
 "nbformat_minor": 5
}
