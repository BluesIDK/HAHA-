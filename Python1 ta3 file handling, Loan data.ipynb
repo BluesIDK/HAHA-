{
 "cells": [
  {
   "cell_type": "code",
   "execution_count": 6,
   "metadata": {},
   "outputs": [
    {
     "name": "stdout",
     "output_type": "stream",
     "text": [
      "Mean Loan Amount: 146.41216216216216\n",
      "Median Loan Amount: 128.0\n",
      "Standard Deviation of Loan Amount: 85.51500809120331\n"
     ]
    }
   ],
   "source": [
    "import numpy as np\n",
    "\n",
    "loan_data = np.genfromtxt(\"Loan_prediction_dataset.csv\", delimiter=\",\", skip_header=1, usecols=(8), dtype=float)\n",
    "\n",
    "clean_loan_data = loan_data[~np.isnan(loan_data)]\n",
    "\n",
    "\n",
    "mean_loan = np.nanmean(clean_loan_data)\n",
    "\n",
    "median_loan = np.nanmedian(clean_loan_data)\n",
    "\n",
    "std_loan = np.nanstd(clean_loan_data)\n",
    "\n",
    "\n",
    "print(f\"Mean Loan Amount: {mean_loan}\")\n",
    "\n",
    "print(f\"Median Loan Amount: {median_loan}\")\n",
    "\n",
    "print(f\"Standard Deviation of Loan Amount: {std_loan}\")\n",
    "\n"
   ]
  }
 ],
 "metadata": {
  "kernelspec": {
   "display_name": "myenv",
   "language": "python",
   "name": "python3"
  },
  "language_info": {
   "codemirror_mode": {
    "name": "ipython",
    "version": 3
   },
   "file_extension": ".py",
   "mimetype": "text/x-python",
   "name": "python",
   "nbconvert_exporter": "python",
   "pygments_lexer": "ipython3",
   "version": "3.13.1"
  }
 },
 "nbformat": 4,
 "nbformat_minor": 2
}
